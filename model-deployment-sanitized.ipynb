{
  "cells": [
    {
      "metadata": {},
      "cell_type": "markdown",
      "source": "\n\n # Connect to our Worskpace"
    },
    {
      "metadata": {
        "trusted": true
      },
      "cell_type": "code",
      "source": "#Let's connect to our workspace:\nfrom azureml.core import Workspace\nws = Workspace.from_config(path=\".azureml/ws_config.json\")\nws",
      "execution_count": 17,
      "outputs": [
        {
          "output_type": "execute_result",
          "execution_count": 17,
          "data": {
            "text/plain": "Workspace.create(name='ws_leena_1', subscription_id='818f7123-d5f7-478f-b1ac-78868aa777fe', resource_group='DataScience')"
          },
          "metadata": {}
        }
      ]
    },
    {
      "metadata": {},
      "cell_type": "markdown",
      "source": "# Reference our registered model:"
    },
    {
      "metadata": {
        "trusted": true
      },
      "cell_type": "code",
      "source": "#Let's reference our registered model:\nfrom azureml.core.model import Model\nprint(Model.list(workspace = ws))\nprint(\"______________________________\")\nprint(Model.get_model_path('outputs/bh_lr.pkl',1,'ws_leena_1'))\nprint(\"______________________________\")\nmodel_path = Model.get_model_path('outputs/bh_lr.pkl',1,'ws_leena_1')\nmodel = Model(ws,'boston_housing_lr')\nprint(model)\nprint(\"______________________________\")\nprint(type(model))\n",
      "execution_count": 25,
      "outputs": [
        {
          "output_type": "stream",
          "text": "[Model(workspace=Workspace.create(name='ws_leena_1', subscription_id='818f7123-d5f7-478f-b1ac-78868aa777fe', resource_group='DataScience'), name=sklearn_bh_lr, id=sklearn_bh_lr:1, version=1, tags={}, properties={}), Model(workspace=Workspace.create(name='ws_leena_1', subscription_id='818f7123-d5f7-478f-b1ac-78868aa777fe', resource_group='DataScience'), name=lq_simple_train, id=lq_simple_train:2, version=2, tags={}, properties={}), Model(workspace=Workspace.create(name='ws_leena_1', subscription_id='818f7123-d5f7-478f-b1ac-78868aa777fe', resource_group='DataScience'), name=boston_housing_lr, id=boston_housing_lr:5, version=5, tags={}, properties={})]\n______________________________\noutputs/bh_lr.pkl\n______________________________\nModel(workspace=Workspace.create(name='ws_leena_1', subscription_id='818f7123-d5f7-478f-b1ac-78868aa777fe', resource_group='DataScience'), name=boston_housing_lr, id=boston_housing_lr:5, version=5, tags={}, properties={})\n______________________________\n<class 'azureml.core.model.Model'>\n",
          "name": "stdout"
        }
      ]
    },
    {
      "metadata": {
        "trusted": true
      },
      "cell_type": "code",
      "source": "!ls -al azureml-models/sklearn_bh_lr/",
      "execution_count": 28,
      "outputs": [
        {
          "output_type": "stream",
          "text": "ls: cannot access 'azureml-models/': No such file or directory\r\n",
          "name": "stdout"
        }
      ]
    },
    {
      "metadata": {},
      "cell_type": "markdown",
      "source": "# Build an entry script"
    },
    {
      "metadata": {
        "trusted": true
      },
      "cell_type": "code",
      "source": "import json\nimport pickle\nimport numpy as np\nimport pandas as pd\nfrom sklearn.externals import joblib\nfrom azureml.core.model import Model\n\nsample = json.dumps({\"data\": [7.534]})\nprint(sample)\nprint(type(sample))\nprint(json.loads(sample)['data'])\nmy_array = np.array(json.loads(sample)['data'])\nprint(my_array.shape)\nmy2d_array = my_array.reshape(-1,1)\nprint(my2d_array)\nprint(my2d_array.shape)\n##test_samples = bytes(test_samples, encoding='utf8')\n\n#print(Model.list(ws))\nmodel_path = Model.get_model_path(model_name = 'sklearn_bh_lr')\nprint(model_path)\n\nlocal_model = joblib.load(model_path)\nprint(\"local_model: \", local_model.predict(my2d_array))\n\n\ndef run(data):\n    data = np.array(json.loads(data)['data'])\n    result = local_model.predict(data.reshape(-1,1))\n    \n    return result.tolist()\n    \nprint(\"local_model_through_run_function: \", run(sample))  \n",
      "execution_count": null,
      "outputs": []
    },
    {
      "metadata": {
        "trusted": true
      },
      "cell_type": "code",
      "source": "%%writefile score.py\n# Now we build an entry script that uses our model reference:\n\nimport json\nimport pickle\nimport numpy as np\nimport pandas as pd\nfrom sklearn.externals import joblib\nfrom azureml.core.model import Model\n\n\n\ndef init():\n    global model\n    model_path = Model.get_model_path(model_name = 'sklearn_bh_lr')\n    model = joblib.load(model_path)\n    \n    \n    \ndef run(data):\n    data = np.array(json.loads(data)['data'])\n    result = model.predict(data.reshape(-1,1))\n    \n    return result.tolist()\n    \n",
      "execution_count": 29,
      "outputs": [
        {
          "output_type": "stream",
          "text": "Writing score.py\n",
          "name": "stdout"
        }
      ]
    },
    {
      "metadata": {
        "trusted": true
      },
      "cell_type": "code",
      "source": "",
      "execution_count": null,
      "outputs": []
    },
    {
      "metadata": {},
      "cell_type": "markdown",
      "source": "# Build Dependency list and save it as a yaml file."
    },
    {
      "metadata": {
        "trusted": true
      },
      "cell_type": "code",
      "source": "from azureml.core.conda_dependencies import CondaDependencies\n\ndependencies = CondaDependencies()\ndependencies.set_python_version(\"3.6.6\")\ndependencies.add_pip_package(\"scikit-learn==0.20.3\")\ndependencies.add_pip_package(\"numpy==1.16.2\")\ndependencies.add_pip_package(\"pandas==0.23.4\")\ndependencies.add_pip_package(\"matplotlib==3.0.0\")\n\ndependencies.save_to_file(\".\",\"myenv.yml\")",
      "execution_count": 30,
      "outputs": [
        {
          "output_type": "execute_result",
          "execution_count": 30,
          "data": {
            "text/plain": "'myenv.yml'"
          },
          "metadata": {}
        }
      ]
    },
    {
      "metadata": {
        "trusted": true
      },
      "cell_type": "code",
      "source": "!ls",
      "execution_count": 31,
      "outputs": [
        {
          "output_type": "stream",
          "text": "bh_lr.pkl\t\t\t  model_training_sanitized.ipynb  README.md\r\nbk_sklearn_lr.py\t\t  myenv.yml\t\t\t  score.py\r\ncreate-workspace-sanitized.ipynb  my_sklearn_lr.py\r\nmodel-deployment-sanitized.ipynb  outputs\r\n",
          "name": "stdout"
        }
      ]
    },
    {
      "metadata": {
        "trusted": true
      },
      "cell_type": "code",
      "source": "",
      "execution_count": null,
      "outputs": []
    },
    {
      "metadata": {
        "trusted": true
      },
      "cell_type": "code",
      "source": "from azureml.core.webservice import AciWebservice, Webservice\nfrom azureml.core.image import ContainerImage",
      "execution_count": 32,
      "outputs": []
    },
    {
      "metadata": {},
      "cell_type": "markdown",
      "source": "# Define deplolyment configuration and container image"
    },
    {
      "metadata": {
        "trusted": true
      },
      "cell_type": "code",
      "source": "# Define the configuration of compute: ACI with 1 cpu core and 1 gb of memory.\naci_config = AciWebservice.deploy_configuration(cpu_cores = 1, memory_gb = 1)\naci_config\n\n",
      "execution_count": 33,
      "outputs": [
        {
          "output_type": "execute_result",
          "execution_count": 33,
          "data": {
            "text/plain": "<azureml.core.webservice.aci.AciServiceDeploymentConfiguration at 0x7f53ce099f98>"
          },
          "metadata": {}
        }
      ]
    },
    {
      "metadata": {
        "trusted": true
      },
      "cell_type": "code",
      "source": "# Build a container image\nimage_config = ContainerImage.image_configuration(execution_script = \"score.py\", \n                                   runtime = \"python\", \n                                   conda_file = \"myenv.yml\")\nimage_config\n",
      "execution_count": 34,
      "outputs": [
        {
          "output_type": "execute_result",
          "execution_count": 34,
          "data": {
            "text/plain": "<azureml.core.image.container.ContainerImageConfig at 0x7f53cd9a7ac8>"
          },
          "metadata": {}
        }
      ]
    },
    {
      "metadata": {
        "trusted": true
      },
      "cell_type": "code",
      "source": "# Deploy the web service as an image containing the registered model.\n\nservice = Webservice.deploy_from_model(name = \"housing-predictor\",\n                                        deployment_config = aci_config,\n                                        models = [model],\n                                        image_config = image_config,\n                                        workspace = ws)\n\n# The service deployment can take several minutes: wait for completion.\nservice.wait_for_deployment(show_output = True)",
      "execution_count": 35,
      "outputs": [
        {
          "output_type": "stream",
          "text": "Creating image\nRunning....................................................\nSucceeded\nImage creation operation finished for image housing-predictor:1, operation \"Succeeded\"\nRunning..............................................................................................................................................................................................................................\nTimedOut\n",
          "name": "stdout"
        },
        {
          "output_type": "stream",
          "text": "ERROR - Service deployment polling reached non-successful terminal state, current service state: Unhealthy\nMore information can be found using '.get_logs()'\nError:\n{\n  \"code\": \"DeploymentTimedOut\",\n  \"statusCode\": 504,\n  \"message\": \"The deployment operation polling has TimedOut. The service creation is taking longer than our normal time. We are still trying to achieve the desired state for the web service. Please check the webservice state for the current webservice health. You can run print(service.state) from the python SDK to retrieve the current state of the webservice.\"\n}\n\nERROR - Service deployment polling reached non-successful terminal state, current service state: Unhealthy\nMore information can be found using '.get_logs()'\nError:\n{\n  \"code\": \"DeploymentTimedOut\",\n  \"statusCode\": 504,\n  \"message\": \"The deployment operation polling has TimedOut. The service creation is taking longer than our normal time. We are still trying to achieve the desired state for the web service. Please check the webservice state for the current webservice health. You can run print(service.state) from the python SDK to retrieve the current state of the webservice.\"\n}\n\n",
          "name": "stderr"
        },
        {
          "output_type": "error",
          "ename": "WebserviceException",
          "evalue": "WebserviceException:\n\tMessage: Service deployment polling reached non-successful terminal state, current service state: Unhealthy\nMore information can be found using '.get_logs()'\nError:\n{\n  \"code\": \"DeploymentTimedOut\",\n  \"statusCode\": 504,\n  \"message\": \"The deployment operation polling has TimedOut. The service creation is taking longer than our normal time. We are still trying to achieve the desired state for the web service. Please check the webservice state for the current webservice health. You can run print(service.state) from the python SDK to retrieve the current state of the webservice.\"\n}\n\tInnerException None\n\tErrorResponse \n{\n    \"error\": {\n        \"message\": \"Service deployment polling reached non-successful terminal state, current service state: Unhealthy\\nMore information can be found using '.get_logs()'\\nError:\\n{\\n  \\\"code\\\": \\\"DeploymentTimedOut\\\",\\n  \\\"statusCode\\\": 504,\\n  \\\"message\\\": \\\"The deployment operation polling has TimedOut. The service creation is taking longer than our normal time. We are still trying to achieve the desired state for the web service. Please check the webservice state for the current webservice health. You can run print(service.state) from the python SDK to retrieve the current state of the webservice.\\\"\\n}\"\n    }\n}",
          "traceback": [
            "\u001b[0;31m---------------------------------------------------------------------------\u001b[0m",
            "\u001b[0;31mWebserviceException\u001b[0m                       Traceback (most recent call last)",
            "\u001b[0;32m~/anaconda3_501/lib/python3.6/site-packages/azureml/core/webservice/webservice.py\u001b[0m in \u001b[0;36mwait_for_deployment\u001b[0;34m(self, show_output)\u001b[0m\n\u001b[1;32m    530\u001b[0m                                           \u001b[0;34m'Error:\\n'\u001b[0m\u001b[0;34m\u001b[0m\u001b[0m\n\u001b[0;32m--> 531\u001b[0;31m                                           '{}'.format(self.state, logs_response, error_response), logger=module_logger)\n\u001b[0m\u001b[1;32m    532\u001b[0m             print('{} service creation operation finished, operation \"{}\"'.format(self._webservice_type,\n",
            "\u001b[0;31mWebserviceException\u001b[0m: WebserviceException:\n\tMessage: Service deployment polling reached non-successful terminal state, current service state: Unhealthy\nMore information can be found using '.get_logs()'\nError:\n{\n  \"code\": \"DeploymentTimedOut\",\n  \"statusCode\": 504,\n  \"message\": \"The deployment operation polling has TimedOut. The service creation is taking longer than our normal time. We are still trying to achieve the desired state for the web service. Please check the webservice state for the current webservice health. You can run print(service.state) from the python SDK to retrieve the current state of the webservice.\"\n}\n\tInnerException None\n\tErrorResponse \n{\n    \"error\": {\n        \"message\": \"Service deployment polling reached non-successful terminal state, current service state: Unhealthy\\nMore information can be found using '.get_logs()'\\nError:\\n{\\n  \\\"code\\\": \\\"DeploymentTimedOut\\\",\\n  \\\"statusCode\\\": 504,\\n  \\\"message\\\": \\\"The deployment operation polling has TimedOut. The service creation is taking longer than our normal time. We are still trying to achieve the desired state for the web service. Please check the webservice state for the current webservice health. You can run print(service.state) from the python SDK to retrieve the current state of the webservice.\\\"\\n}\"\n    }\n}",
            "\nDuring handling of the above exception, another exception occurred:\n",
            "\u001b[0;31mWebserviceException\u001b[0m                       Traceback (most recent call last)",
            "\u001b[0;32m<ipython-input-35-24446e931c01>\u001b[0m in \u001b[0;36m<module>\u001b[0;34m\u001b[0m\n\u001b[1;32m      8\u001b[0m \u001b[0;34m\u001b[0m\u001b[0m\n\u001b[1;32m      9\u001b[0m \u001b[0;31m# The service deployment can take several minutes: wait for completion.\u001b[0m\u001b[0;34m\u001b[0m\u001b[0;34m\u001b[0m\u001b[0m\n\u001b[0;32m---> 10\u001b[0;31m \u001b[0mservice\u001b[0m\u001b[0;34m.\u001b[0m\u001b[0mwait_for_deployment\u001b[0m\u001b[0;34m(\u001b[0m\u001b[0mshow_output\u001b[0m \u001b[0;34m=\u001b[0m \u001b[0;32mTrue\u001b[0m\u001b[0;34m)\u001b[0m\u001b[0;34m\u001b[0m\u001b[0m\n\u001b[0m",
            "\u001b[0;32m~/anaconda3_501/lib/python3.6/site-packages/azureml/core/webservice/webservice.py\u001b[0m in \u001b[0;36mwait_for_deployment\u001b[0;34m(self, show_output)\u001b[0m\n\u001b[1;32m    538\u001b[0m                                           'Current state is {}'.format(self.state), logger=module_logger)\n\u001b[1;32m    539\u001b[0m             \u001b[0;32melse\u001b[0m\u001b[0;34m:\u001b[0m\u001b[0;34m\u001b[0m\u001b[0m\n\u001b[0;32m--> 540\u001b[0;31m                 \u001b[0;32mraise\u001b[0m \u001b[0mWebserviceException\u001b[0m\u001b[0;34m(\u001b[0m\u001b[0me\u001b[0m\u001b[0;34m.\u001b[0m\u001b[0mmessage\u001b[0m\u001b[0;34m,\u001b[0m \u001b[0mlogger\u001b[0m\u001b[0;34m=\u001b[0m\u001b[0mmodule_logger\u001b[0m\u001b[0;34m)\u001b[0m\u001b[0;34m\u001b[0m\u001b[0m\n\u001b[0m\u001b[1;32m    541\u001b[0m \u001b[0;34m\u001b[0m\u001b[0m\n\u001b[1;32m    542\u001b[0m     \u001b[0;32mdef\u001b[0m \u001b[0m_wait_for_operation_to_complete\u001b[0m\u001b[0;34m(\u001b[0m\u001b[0mself\u001b[0m\u001b[0;34m,\u001b[0m \u001b[0mshow_output\u001b[0m\u001b[0;34m)\u001b[0m\u001b[0;34m:\u001b[0m\u001b[0;34m\u001b[0m\u001b[0m\n",
            "\u001b[0;31mWebserviceException\u001b[0m: WebserviceException:\n\tMessage: Service deployment polling reached non-successful terminal state, current service state: Unhealthy\nMore information can be found using '.get_logs()'\nError:\n{\n  \"code\": \"DeploymentTimedOut\",\n  \"statusCode\": 504,\n  \"message\": \"The deployment operation polling has TimedOut. The service creation is taking longer than our normal time. We are still trying to achieve the desired state for the web service. Please check the webservice state for the current webservice health. You can run print(service.state) from the python SDK to retrieve the current state of the webservice.\"\n}\n\tInnerException None\n\tErrorResponse \n{\n    \"error\": {\n        \"message\": \"Service deployment polling reached non-successful terminal state, current service state: Unhealthy\\nMore information can be found using '.get_logs()'\\nError:\\n{\\n  \\\"code\\\": \\\"DeploymentTimedOut\\\",\\n  \\\"statusCode\\\": 504,\\n  \\\"message\\\": \\\"The deployment operation polling has TimedOut. The service creation is taking longer than our normal time. We are still trying to achieve the desired state for the web service. Please check the webservice state for the current webservice health. You can run print(service.state) from the python SDK to retrieve the current state of the webservice.\\\"\\n}\"\n    }\n}"
          ]
        }
      ]
    },
    {
      "metadata": {
        "trusted": true
      },
      "cell_type": "code",
      "source": "#service = Webservice(ws, 'housing-predictor')",
      "execution_count": null,
      "outputs": []
    },
    {
      "metadata": {
        "trusted": true
      },
      "cell_type": "code",
      "source": "",
      "execution_count": null,
      "outputs": []
    },
    {
      "metadata": {
        "trusted": true
      },
      "cell_type": "code",
      "source": "#print(service.get_logs())",
      "execution_count": null,
      "outputs": []
    },
    {
      "metadata": {
        "trusted": true
      },
      "cell_type": "code",
      "source": "result = service.run(sample)\n#json.loads(sample)['data']\nprint(\"return_from_aci_deployment: \", result)\n#my_model = joblib.load(model_path)\n#data = np.array([1,3,5,7])\n#data\n#data.size\n\n",
      "execution_count": null,
      "outputs": []
    },
    {
      "metadata": {
        "trusted": true
      },
      "cell_type": "code",
      "source": "service.delete()",
      "execution_count": null,
      "outputs": []
    },
    {
      "metadata": {
        "trusted": true
      },
      "cell_type": "code",
      "source": "",
      "execution_count": null,
      "outputs": []
    },
    {
      "metadata": {
        "trusted": true
      },
      "cell_type": "code",
      "source": "",
      "execution_count": null,
      "outputs": []
    },
    {
      "metadata": {
        "trusted": true
      },
      "cell_type": "code",
      "source": "",
      "execution_count": null,
      "outputs": []
    }
  ],
  "metadata": {
    "kernelspec": {
      "name": "python36",
      "display_name": "Python 3.6",
      "language": "python"
    },
    "language_info": {
      "mimetype": "text/x-python",
      "nbconvert_exporter": "python",
      "name": "python",
      "pygments_lexer": "ipython3",
      "version": "3.6.6",
      "file_extension": ".py",
      "codemirror_mode": {
        "version": 3,
        "name": "ipython"
      }
    }
  },
  "nbformat": 4,
  "nbformat_minor": 2
}