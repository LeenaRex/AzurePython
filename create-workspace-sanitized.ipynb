{
  "cells": [
    {
      "metadata": {
        "trusted": true
      },
      "cell_type": "code",
      "source": "#import worskpace constructor and create a workspace\n\nfrom azureml.core import Workspace\nlqai_ws = Workspace.create(name='ws_leena_1',\n                            subscription_id='818f7123-d5f7-478f-b1ac-78868aa777fe',\n                            resource_group='DataScience',\n                            create_resource_group=False,\n                            location='eastus')",
      "execution_count": 1,
      "outputs": [
        {
          "output_type": "error",
          "ename": "WorkspaceException",
          "evalue": "WorkspaceException:\n\tMessage: Workspace with name 'ws_leena_1' already exists under resource group with name 'DataScience'.\n\tInnerException None\n\tErrorResponse \n{\n    \"error\": {\n        \"message\": \"Workspace with name 'ws_leena_1' already exists under resource group with name 'DataScience'.\"\n    }\n}",
          "traceback": [
            "\u001b[0;31m---------------------------------------------------------------------------\u001b[0m",
            "\u001b[0;31mWorkspaceException\u001b[0m                        Traceback (most recent call last)",
            "\u001b[0;32m<ipython-input-1-c8214bec342d>\u001b[0m in \u001b[0;36m<module>\u001b[0;34m\u001b[0m\n\u001b[1;32m      6\u001b[0m                             \u001b[0mresource_group\u001b[0m\u001b[0;34m=\u001b[0m\u001b[0;34m'DataScience'\u001b[0m\u001b[0;34m,\u001b[0m\u001b[0;34m\u001b[0m\u001b[0m\n\u001b[1;32m      7\u001b[0m                             \u001b[0mcreate_resource_group\u001b[0m\u001b[0;34m=\u001b[0m\u001b[0;32mFalse\u001b[0m\u001b[0;34m,\u001b[0m\u001b[0;34m\u001b[0m\u001b[0m\n\u001b[0;32m----> 8\u001b[0;31m                             location='eastus')\n\u001b[0m",
            "\u001b[0;32m~/anaconda3_501/lib/python3.6/site-packages/azureml/core/workspace.py\u001b[0m in \u001b[0;36mcreate\u001b[0;34m(name, auth, subscription_id, resource_group, location, create_resource_group, sku, friendly_name, storage_account, key_vault, app_insights, container_registry, default_cpu_compute_target, default_gpu_compute_target, exist_ok, show_output)\u001b[0m\n\u001b[1;32m    414\u001b[0m                                         \u001b[0mdefault_cpu_compute_target\u001b[0m\u001b[0;34m=\u001b[0m\u001b[0mdefault_cpu_compute_target\u001b[0m\u001b[0;34m,\u001b[0m\u001b[0;34m\u001b[0m\u001b[0m\n\u001b[1;32m    415\u001b[0m                                         \u001b[0mdefault_gpu_compute_target\u001b[0m\u001b[0;34m=\u001b[0m\u001b[0mdefault_gpu_compute_target\u001b[0m\u001b[0;34m,\u001b[0m\u001b[0;34m\u001b[0m\u001b[0m\n\u001b[0;32m--> 416\u001b[0;31m                                         exist_ok=exist_ok, show_output=show_output)\n\u001b[0m\u001b[1;32m    417\u001b[0m \u001b[0;34m\u001b[0m\u001b[0m\n\u001b[1;32m    418\u001b[0m     \u001b[0;34m@\u001b[0m\u001b[0mstaticmethod\u001b[0m\u001b[0;34m\u001b[0m\u001b[0m\n",
            "\u001b[0;32m~/anaconda3_501/lib/python3.6/site-packages/azureml/core/workspace.py\u001b[0m in \u001b[0;36m_create_legacy\u001b[0;34m(auth, subscription_id, resource_group_name, workspace_name, location, create_resource_group, sku, friendly_name, storage_account, key_vault, app_insights, container_registry, default_cpu_compute_target, default_gpu_compute_target, exist_ok, show_output)\u001b[0m\n\u001b[1;32m   1048\u001b[0m                                                                \u001b[0mdefault_cpu_compute_target\u001b[0m\u001b[0;34m=\u001b[0m\u001b[0mdefault_cpu_compute_target\u001b[0m\u001b[0;34m,\u001b[0m\u001b[0;34m\u001b[0m\u001b[0m\n\u001b[1;32m   1049\u001b[0m                                                                \u001b[0mdefault_gpu_compute_target\u001b[0m\u001b[0;34m=\u001b[0m\u001b[0mdefault_gpu_compute_target\u001b[0m\u001b[0;34m,\u001b[0m\u001b[0;34m\u001b[0m\u001b[0m\n\u001b[0;32m-> 1050\u001b[0;31m                                                                exist_ok=exist_ok, show_output=show_output)\n\u001b[0m\u001b[1;32m   1051\u001b[0m         \u001b[0;32mif\u001b[0m \u001b[0;32mnot\u001b[0m \u001b[0mworkspace_object_autorest\u001b[0m\u001b[0;34m:\u001b[0m\u001b[0;34m\u001b[0m\u001b[0m\n\u001b[1;32m   1052\u001b[0m             \u001b[0;32mraise\u001b[0m \u001b[0mWorkspaceException\u001b[0m\u001b[0;34m(\u001b[0m\u001b[0;34m\"Couldn't create the workspace.\"\u001b[0m\u001b[0;34m)\u001b[0m\u001b[0;34m\u001b[0m\u001b[0m\n",
            "\u001b[0;32m~/anaconda3_501/lib/python3.6/site-packages/azureml/_project/_commands.py\u001b[0m in \u001b[0;36mcreate_workspace\u001b[0;34m(auth, resource_group_name, workspace_name, subscription_id, location, create_resource_group, sku, friendly_name, storage_account, key_vault, app_insights, containerRegistry, default_cpu_compute_target, default_gpu_compute_target, exist_ok, show_output)\u001b[0m\n\u001b[1;32m    303\u001b[0m         \u001b[0mexist_ok\u001b[0m\u001b[0;34m=\u001b[0m\u001b[0mexist_ok\u001b[0m\u001b[0;34m,\u001b[0m\u001b[0;34m\u001b[0m\u001b[0m\n\u001b[1;32m    304\u001b[0m         \u001b[0mshow_output\u001b[0m\u001b[0;34m=\u001b[0m\u001b[0mshow_output\u001b[0m\u001b[0;34m,\u001b[0m\u001b[0;34m\u001b[0m\u001b[0m\n\u001b[0;32m--> 305\u001b[0;31m         sku=sku)\n\u001b[0m\u001b[1;32m    306\u001b[0m \u001b[0;34m\u001b[0m\u001b[0m\n\u001b[1;32m    307\u001b[0m \u001b[0;34m\u001b[0m\u001b[0m\n",
            "\u001b[0;32m~/anaconda3_501/lib/python3.6/site-packages/azureml/_workspace/custom.py\u001b[0m in \u001b[0;36mml_workspace_create_resources\u001b[0;34m(auth, client, resource_group_name, workspace_name, location, subscription_id, friendly_name, storage_account, key_vault, app_insights, containerRegistry, default_cpu_compute_target, default_gpu_compute_target, exist_ok, show_output, sku)\u001b[0m\n\u001b[1;32m     53\u001b[0m             raise WorkspaceException(\"Workspace with name '{0}' already exists under\"\n\u001b[1;32m     54\u001b[0m                                      \" resource group with name '{1}'.\".format(workspace_name,\n\u001b[0;32m---> 55\u001b[0;31m                                                                                resource_group_name))\n\u001b[0m\u001b[1;32m     56\u001b[0m     \u001b[0;32mexcept\u001b[0m \u001b[0mErrorResponseWrapperException\u001b[0m \u001b[0;32mas\u001b[0m \u001b[0mresponse_exception\u001b[0m\u001b[0;34m:\u001b[0m\u001b[0;34m\u001b[0m\u001b[0m\n\u001b[1;32m     57\u001b[0m         \u001b[0;32mif\u001b[0m \u001b[0mresponse_exception\u001b[0m\u001b[0;34m.\u001b[0m\u001b[0mresponse\u001b[0m\u001b[0;34m.\u001b[0m\u001b[0mstatus_code\u001b[0m \u001b[0;34m!=\u001b[0m \u001b[0;36m404\u001b[0m\u001b[0;34m:\u001b[0m\u001b[0;34m\u001b[0m\u001b[0m\n",
            "\u001b[0;31mWorkspaceException\u001b[0m: WorkspaceException:\n\tMessage: Workspace with name 'ws_leena_1' already exists under resource group with name 'DataScience'.\n\tInnerException None\n\tErrorResponse \n{\n    \"error\": {\n        \"message\": \"Workspace with name 'ws_leena_1' already exists under resource group with name 'DataScience'.\"\n    }\n}"
          ]
        }
      ]
    },
    {
      "metadata": {
        "trusted": true
      },
      "cell_type": "code",
      "source": "#create a workspace config file to reference you workspace without needing to specify the identifying variables\nlqai_ws.write_config(path=\"./\", file_name=\"ws_config.json\")",
      "execution_count": 2,
      "outputs": [
        {
          "output_type": "error",
          "ename": "NameError",
          "evalue": "name 'lqai_ws' is not defined",
          "traceback": [
            "\u001b[0;31m---------------------------------------------------------------------------\u001b[0m",
            "\u001b[0;31mNameError\u001b[0m                                 Traceback (most recent call last)",
            "\u001b[0;32m<ipython-input-2-738ef5b2962d>\u001b[0m in \u001b[0;36m<module>\u001b[0;34m\u001b[0m\n\u001b[1;32m      1\u001b[0m \u001b[0;31m#create a workspace config file to reference you workspace without needing to specify the identifying variables\u001b[0m\u001b[0;34m\u001b[0m\u001b[0;34m\u001b[0m\u001b[0m\n\u001b[0;32m----> 2\u001b[0;31m \u001b[0mlqai_ws\u001b[0m\u001b[0;34m.\u001b[0m\u001b[0mwrite_config\u001b[0m\u001b[0;34m(\u001b[0m\u001b[0mpath\u001b[0m\u001b[0;34m=\u001b[0m\u001b[0;34m\"./\"\u001b[0m\u001b[0;34m,\u001b[0m \u001b[0mfile_name\u001b[0m\u001b[0;34m=\u001b[0m\u001b[0;34m\"ws_config.json\"\u001b[0m\u001b[0;34m)\u001b[0m\u001b[0;34m\u001b[0m\u001b[0m\n\u001b[0m",
            "\u001b[0;31mNameError\u001b[0m: name 'lqai_ws' is not defined"
          ]
        }
      ]
    },
    {
      "metadata": {
        "trusted": true
      },
      "cell_type": "code",
      "source": "!cat .azureml/ws_config.json",
      "execution_count": 3,
      "outputs": [
        {
          "output_type": "stream",
          "text": "{\"Id\": null, \"Scope\": \"/subscriptions/818f7123-d5f7-478f-b1ac-78868aa777fe/resourceGroups/DataScience/providers/Microsoft.MachineLearningServices/workspaces/ws_leena_1\"}",
          "name": "stdout"
        }
      ]
    },
    {
      "metadata": {
        "trusted": true,
        "scrolled": true
      },
      "cell_type": "code",
      "source": "ls -al\n",
      "execution_count": 4,
      "outputs": [
        {
          "output_type": "stream",
          "text": "total 8\r\ndrwxr-xr-x 2 nbuser nbuser    0 Jan  1  1970 \u001b[0m\u001b[01;34m.\u001b[0m/\r\ndrwxr-xr-x 1 nbuser nbuser 4096 May 15 14:23 \u001b[01;34m..\u001b[0m/\r\ndrwxr-xr-x 2 nbuser nbuser    0 May 14 15:48 \u001b[01;34m.azureml\u001b[0m/\r\n-rw-r--r-- 1 nbuser nbuser 5537 May 14 16:36 create-workspace-sanitized.ipynb\r\ndrwxr-xr-x 2 nbuser nbuser    0 May 11 20:19 \u001b[01;34m.ipynb_checkpoints\u001b[0m/\r\n-rw-r--r-- 1 nbuser nbuser    0 May 11 20:17 README.md\r\n",
          "name": "stdout"
        }
      ]
    },
    {
      "metadata": {
        "trusted": true
      },
      "cell_type": "code",
      "source": "ls -al .azureml\n",
      "execution_count": 5,
      "outputs": [
        {
          "output_type": "stream",
          "text": "total 0\r\ndrwxr-xr-x 2 nbuser nbuser   0 May 14 15:48 \u001b[0m\u001b[01;34m.\u001b[0m/\r\ndrwxr-xr-x 2 nbuser nbuser   0 Jan  1  1970 \u001b[01;34m..\u001b[0m/\r\n-rw-r--r-- 1 nbuser nbuser 169 May 14 15:48 ws_config.json\r\n",
          "name": "stdout"
        }
      ]
    },
    {
      "metadata": {
        "trusted": true
      },
      "cell_type": "code",
      "source": "!cat .azureml/ws_config.json\n",
      "execution_count": 6,
      "outputs": [
        {
          "output_type": "stream",
          "text": "{\"Id\": null, \"Scope\": \"/subscriptions/818f7123-d5f7-478f-b1ac-78868aa777fe/resourceGroups/DataScience/providers/Microsoft.MachineLearningServices/workspaces/ws_leena_1\"}",
          "name": "stdout"
        }
      ]
    },
    {
      "metadata": {
        "trusted": true
      },
      "cell_type": "code",
      "source": "pwd .azureml/ws_config.json\n",
      "execution_count": 7,
      "outputs": [
        {
          "output_type": "execute_result",
          "execution_count": 7,
          "data": {
            "text/plain": "'/home/nbuser/library'"
          },
          "metadata": {}
        }
      ]
    },
    {
      "metadata": {
        "trusted": true
      },
      "cell_type": "code",
      "source": "!cat /home/nbuser/library/.azureml/ws_config.json",
      "execution_count": 11,
      "outputs": [
        {
          "output_type": "stream",
          "text": "{\"Id\": null, \"Scope\": \"/subscriptions/818f7123-d5f7-478f-b1ac-78868aa777fe/resourceGroups/DataScience/providers/Microsoft.MachineLearningServices/workspaces/ws_leena_1\"}",
          "name": "stdout"
        }
      ]
    },
    {
      "metadata": {
        "trusted": true
      },
      "cell_type": "code",
      "source": "",
      "execution_count": null,
      "outputs": []
    }
  ],
  "metadata": {
    "kernelspec": {
      "name": "python36",
      "display_name": "Python 3.6",
      "language": "python"
    }
  },
  "nbformat": 4,
  "nbformat_minor": 2
}